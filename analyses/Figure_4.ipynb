{
 "cells": [
  {
   "cell_type": "markdown",
   "id": "fa0c0c38",
   "metadata": {},
   "source": [
    "### Figure 4"
   ]
  },
  {
   "cell_type": "markdown",
   "id": "a83a6197",
   "metadata": {
    "vscode": {
     "languageId": "plaintext"
    }
   },
   "source": [
    "Import packages and figure setup"
   ]
  },
  {
   "cell_type": "code",
   "execution_count": null,
   "id": "890019d5",
   "metadata": {},
   "outputs": [],
   "source": [
    "from pandas.api.types import CategoricalDtype\n",
    "import numpy as np\n",
    "import pandas as pd\n",
    "import matplotlib.pyplot as plt\n",
    "import seaborn as sns\n",
    "import datetime\n",
    "import fed3bandit as f3b\n",
    "import copy\n",
    "from scipy.stats import ttest_rel, ttest_ind\n",
    "\n",
    "plt.rcParams.update({'font.size': 28, 'figure.autolayout': True})"
   ]
  },
  {
   "cell_type": "markdown",
   "id": "2baab18c",
   "metadata": {},
   "source": [
    "Download data"
   ]
  },
  {
   "cell_type": "code",
   "execution_count": null,
   "id": "739c9348",
   "metadata": {},
   "outputs": [],
   "source": [
    "#Here is the data download\n",
    "\n",
    "print(\"Data downloaded succesfully\")"
   ]
  },
  {
   "cell_type": "markdown",
   "id": "559b9363",
   "metadata": {},
   "source": [
    "Data pre-processing"
   ]
  },
  {
   "cell_type": "code",
   "execution_count": null,
   "id": "d432c29e",
   "metadata": {},
   "outputs": [],
   "source": [
    "\"\"\"Here we get the slice of the data that goes from 0 to 8 hours after the intra-striatal infusion.\"\"\"\n",
    "post_hours = 8\n",
    "\n",
    "# The saline groups\n",
    "saline_slices = {}\n",
    "for session in p_saline_data:\n",
    "    c_session = p_saline_data[session]\n",
    "    c_injection = saline_injectiontimes[session]\n",
    "    s_session = {mouse: c_session[mouse][np.logical_and(c_session[mouse].iloc[:,0] < c_injection + datetime.timedelta(hours=post_hours),\n",
    "                                                        c_session[mouse].iloc[:,0] > c_injection)] for mouse in c_session}\n",
    "    saline_slices[session] = s_session\n",
    "       \n",
    "# The MK801 groups                               \n",
    "mk801_slices = {}\n",
    "for session in p_mk801_data:\n",
    "    c_session = p_mk801_data[session]\n",
    "    c_injection = mk801_injectiontimes[session]\n",
    "    s_session = {mouse: c_session[mouse][np.logical_and(c_session[mouse].iloc[:,0] < c_injection + datetime.timedelta(hours=post_hours),\n",
    "                                                        c_session[mouse].iloc[:,0] > c_injection)] for mouse in c_session}\n",
    "    mk801_slices[session] = s_session\n"
   ]
  },
  {
   "cell_type": "markdown",
   "id": "02e69de6",
   "metadata": {},
   "source": [
    "### Data Analysis"
   ]
  },
  {
   "cell_type": "markdown",
   "id": "7386027d",
   "metadata": {},
   "source": [
    "Sample behavior after saline or MK801 infucsion. Panel 4B"
   ]
  },
  {
   "cell_type": "code",
   "execution_count": null,
   "id": "1553a831",
   "metadata": {},
   "outputs": [],
   "source": [
    "#Sample saline MK801\n",
    "sample_saline = saline_slices[\"saline_3\"][\"C50F5\"]\n",
    "sample_mk801 = mk801_slices[\"mk801_1\"][\"C50F5\"]\n",
    "\n",
    "fig, ax = plt.subplots(figsize=(6,3))\n",
    "c_trueleft = f3b.true_probs(sample_saline)[0].to_list()\n",
    "c_bactions = f3b.binned_paction(sample_saline)\n",
    "print(len(c_trueleft), len(c_bactions))\n",
    "ax.plot(c_trueleft, c=\"red\", linewidth=3)\n",
    "ax.plot(c_bactions, c=\"darkcyan\", linewidth=3)\n",
    "plt.axis(\"off\")\n",
    "\n",
    "\n",
    "fig, ax = plt.subplots(figsize=(6,3))\n",
    "c_trueleft = f3b.true_probs(sample_mk801)[0].to_list()\n",
    "c_bactions = f3b.binned_paction(sample_mk801)\n",
    "print(len(c_trueleft), len(c_bactions))\n",
    "ax.plot(c_trueleft, c=\"red\", linewidth=3)\n",
    "ax.plot(c_bactions, c=\"olive\", linewidth=3)\n",
    "plt.axis(\"off\")"
   ]
  },
  {
   "cell_type": "markdown",
   "id": "c0895a08",
   "metadata": {},
   "source": [
    "Calculation of pokes, pellets, pokes per pellet, win-stay, and lose-shift metrics.\n",
    "For documentation and source code of FED3Bandit package, which is used to calculate metrics, please see:\n",
    "\n",
    "FED3Bandit package documentation: https://fed3bandit.readthedocs.io/en/latest/analysis/fed3live_api.html\n",
    "\n",
    "FED3Bandit package source code:  https://github.com/AlexLM96/fed3bandit/blob/main/fed3bandit/fed3bandit/fed3bandit.py\n",
    "\n"
   ]
  },
  {
   "cell_type": "code",
   "execution_count": null,
   "id": "2b199b62",
   "metadata": {},
   "outputs": [],
   "source": [
    "# Metrics of the saline group\n",
    "saline_pellets = {}\n",
    "saline_pokes = {}\n",
    "saline_ws = {}\n",
    "saline_ls = {}\n",
    "for session in saline_slices:\n",
    "    #Load data\n",
    "    c_session = saline_slices[session]\n",
    "    \n",
    "    #Calculate metrics\n",
    "    c_session_pellets = {mouse: [f3b.count_pellets(c_session[mouse])] for mouse in c_session}\n",
    "    c_session_pokes = {mouse: [f3b.count_pokes(c_session[mouse])] for mouse in c_session}\n",
    "    c_session_ws = {mouse: [f3b.win_stay(c_session[mouse])] for mouse in c_session}\n",
    "    c_session_ls = {mouse: [f3b.lose_shift(c_session[mouse])] for mouse in c_session}\n",
    "\n",
    "    saline_pellets = saline_pellets | c_session_pellets\n",
    "    saline_pokes = saline_pokes | c_session_pokes\n",
    "    saline_ws = saline_ws | c_session_ws\n",
    "    saline_ls = saline_ls | c_session_ls\n",
    "    \n",
    "saline_pellets = pd.DataFrame(saline_pellets).T\n",
    "saline_pokes = pd.DataFrame(saline_pokes).T\n",
    "saline_ws = pd.DataFrame(saline_ws).T\n",
    "saline_ls = pd.DataFrame(saline_ls).T\n",
    "    \n",
    "# Metrics of the MK801 group\n",
    "mk801_pellets = {}\n",
    "mk801_pokes = {}\n",
    "mk801_ws = {}\n",
    "mk801_ls = {}\n",
    "for session in mk801_slices:\n",
    "    #Load data\n",
    "    c_session = mk801_slices[session]\n",
    "    \n",
    "    #Calculate metrics\n",
    "    c_session_pellets = {mouse: [f3b.count_pellets(c_session[mouse])] for mouse in c_session}\n",
    "    c_session_pokes = {mouse: [f3b.count_pokes(c_session[mouse])] for mouse in c_session}\n",
    "    c_session_ws = {mouse: [f3b.win_stay(c_session[mouse])] for mouse in c_session}\n",
    "    c_session_ls = {mouse: [f3b.lose_shift(c_session[mouse])] for mouse in c_session}\n",
    "\n",
    "    mk801_pellets = mk801_pellets | c_session_pellets\n",
    "    mk801_pokes = mk801_pokes | c_session_pokes\n",
    "    mk801_ws = mk801_ws | c_session_ws\n",
    "    mk801_ls = mk801_ls | c_session_ls\n",
    "    \n",
    "mk801_pellets = pd.DataFrame(mk801_pellets).T\n",
    "mk801_pokes = pd.DataFrame(mk801_pokes).T\n",
    "mk801_ws = pd.DataFrame(mk801_ws).T\n",
    "mk801_ls = pd.DataFrame(mk801_ls).T"
   ]
  },
  {
   "cell_type": "markdown",
   "id": "806bfc9d",
   "metadata": {},
   "source": [
    "Concatenating saline and mk801 groups and preparing for plotting."
   ]
  },
  {
   "cell_type": "code",
   "execution_count": null,
   "id": "3ca2d31d",
   "metadata": {},
   "outputs": [],
   "source": [
    "# Pellets\n",
    "all_pellets = pd.concat([saline_pellets, mk801_pellets], axis=1).reset_index()\n",
    "all_pellets.columns = [\"Mouse\", \"Sal\", \"MK801\"]\n",
    "m_all_pellets = pd.melt(all_pellets, id_vars=\"Mouse\")\n",
    "m_all_pellets[\"variable\"] = m_all_pellets[\"variable\"].astype(cat_size_order)\n",
    "m_all_pellets = m_all_pellets.sort_values(by=\"variable\")\n",
    "\n",
    "# Pokes\n",
    "all_pokes = pd.concat([saline_pokes, mk801_pokes], axis=1).reset_index()\n",
    "all_pokes.columns = [\"Mouse\", \"Sal\", \"MK801\"]\n",
    "m_all_pokes = pd.melt(all_pokes, id_vars=\"Mouse\")\n",
    "m_all_pokes[\"variable\"] = m_all_pokes[\"variable\"].astype(cat_size_order)\n",
    "m_all_pokes = m_all_pokes.sort_values(by=\"variable\")\n",
    "\n",
    "#Win-stay\n",
    "all_ws = pd.concat([saline_ws, mk801_ws], axis=1).reset_index()\n",
    "all_ws.columns = [\"Mouse\", \"Sal\", \"MK801\"]\n",
    "m_all_ws = pd.melt(all_ws, id_vars=\"Mouse\")\n",
    "m_all_ws[\"variable\"] = m_all_ws[\"variable\"].astype(cat_size_order)\n",
    "m_all_ws = m_all_ws.sort_values(by=\"variable\")\n",
    "\n",
    "#Lose-shift\n",
    "all_ls = pd.concat([saline_ls, mk801_ls], axis=1).reset_index()\n",
    "all_ls.columns = [\"Mouse\", \"Sal\", \"MK801\"]\n",
    "m_all_ls = pd.melt(all_ls, id_vars=\"Mouse\")\n",
    "m_all_ls[\"variable\"] = m_all_ls[\"variable\"].astype(cat_size_order)\n",
    "m_all_ls = m_all_ls.sort_values(by=\"variable\")"
   ]
  },
  {
   "cell_type": "markdown",
   "id": "ee50a920",
   "metadata": {},
   "source": [
    "Pellets plot and statistics (Panel 4C)"
   ]
  },
  {
   "cell_type": "code",
   "execution_count": null,
   "id": "08042040",
   "metadata": {},
   "outputs": [],
   "source": [
    "fig, ax = plt.subplots(figsize=(5, 8))\n",
    "sns.boxplot(x=\"variable\", y=\"value\", data=m_all_pellets, palette=[\n",
    "            \"darkcyan\", \"olive\", \"salmon\"], boxprops={\"linewidth\": 2.5}, whiskerprops={\"linewidth\": 2.5})\n",
    "sns.swarmplot(x=\"variable\", y=\"value\", data=m_all_pellets, palette=[\"silver\", \"silver\", \"silver\"], s=10)\n",
    "ax.set_ylabel(\"Pellets\")\n",
    "ax.set_xlabel(\"\")\n",
    "sns.despine()\n",
    "ax.spines[\"bottom\"].set_linewidth(2)\n",
    "ax.spines[\"left\"].set_linewidth(2)\n",
    "ax.set_ylim(0,200)\n",
    "ax.set_yticks(np.arange(0,180,40))\n",
    "\n",
    "# Run independent ttest\n",
    "mk801_pellets_ttest = ttest_ind(m_all_pellets[\"value\"][m_all_pellets[\"variable\"]== \"Sal\"], \n",
    "                                m_all_pellets[\"value\"][m_all_pellets[\"variable\"] == \"MK801\"], nan_policy=\"omit\")\n",
    "\n",
    "print(mk801_pellets_ttest)"
   ]
  },
  {
   "cell_type": "markdown",
   "id": "3d0b04a2",
   "metadata": {},
   "source": [
    "Pokes plot and statistics (Panel 4D)"
   ]
  },
  {
   "cell_type": "code",
   "execution_count": null,
   "id": "c8d30d5c",
   "metadata": {},
   "outputs": [],
   "source": [
    "fig, ax = plt.subplots(figsize=(5, 8))\n",
    "sns.boxplot(x=\"variable\", y=\"value\", data=m_all_pokes, palette=[\n",
    "            \"darkcyan\", \"olive\"], boxprops={\"linewidth\": 2.5}, whiskerprops={\"linewidth\": 2.5})\n",
    "sns.swarmplot(x=\"variable\", y=\"value\", data=m_all_pokes,\n",
    "              palette=[\"silver\", \"silver\"], s=10)\n",
    "ax.set_ylabel(\"Pokes\")\n",
    "ax.set_xlabel(\"\")\n",
    "ax.spines[\"bottom\"].set_linewidth(2)\n",
    "ax.spines[\"left\"].set_linewidth(2)\n",
    "ax.set_ylim(0,340)\n",
    "ax.set_yticks(np.arange(0,340,80))\n",
    "sns.despine()\n",
    "\n",
    "# Run independent ttest\n",
    "mk801_pokes_ttest = ttest_ind(m_all_pokes[\"value\"][m_all_pokes[\"variable\"]== \"Sal\"], \n",
    "                                m_all_pokes[\"value\"][m_all_pokes[\"variable\"] == \"MK801\"], nan_policy=\"omit\")\n"
   ]
  }
 ],
 "metadata": {
  "kernelspec": {
   "display_name": "influxdb",
   "language": "python",
   "name": "python3"
  },
  "language_info": {
   "name": "python",
   "version": "3.10.14"
  }
 },
 "nbformat": 4,
 "nbformat_minor": 5
}
