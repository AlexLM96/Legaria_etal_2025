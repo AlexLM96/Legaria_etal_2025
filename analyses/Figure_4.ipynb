{
 "cells": [
  {
   "cell_type": "markdown",
   "id": "fa0c0c38",
   "metadata": {},
   "source": [
    "## Figure 4"
   ]
  },
  {
   "cell_type": "markdown",
   "id": "553fa645",
   "metadata": {},
   "source": [
    "### Environment setup, data download, and data pre-processing"
   ]
  },
  {
   "cell_type": "markdown",
   "id": "a83a6197",
   "metadata": {
    "vscode": {
     "languageId": "plaintext"
    }
   },
   "source": [
    "Import packages and figure setup"
   ]
  },
  {
   "cell_type": "code",
   "execution_count": null,
   "id": "890019d5",
   "metadata": {},
   "outputs": [],
   "source": [
    "import numpy as np\n",
    "import pandas as pd\n",
    "import matplotlib.pyplot as plt\n",
    "import seaborn as sns\n",
    "import datetime\n",
    "import fed3bandit as f3b\n",
    "import copy\n",
    "from pandas.api.types import CategoricalDtype\n",
    "from scipy.stats import ttest_rel, ttest_ind\n",
    "\n",
    "plt.rcParams.update({'font.size': 28, 'figure.autolayout': True})"
   ]
  },
  {
   "cell_type": "markdown",
   "id": "2baab18c",
   "metadata": {},
   "source": [
    "Download data"
   ]
  },
  {
   "cell_type": "code",
   "execution_count": null,
   "id": "739c9348",
   "metadata": {},
   "outputs": [],
   "source": [
    "#Here is the data download\n",
    "\n",
    "print(\"Data downloaded succesfully\")"
   ]
  },
  {
   "cell_type": "markdown",
   "id": "559b9363",
   "metadata": {},
   "source": [
    "Data pre-processing"
   ]
  },
  {
   "cell_type": "code",
   "execution_count": null,
   "id": "d432c29e",
   "metadata": {},
   "outputs": [],
   "source": [
    "\"\"\"Slice data to only eight hours after intra-striatal infusion.\"\"\"\n",
    "post_hours = 8\n",
    "\n",
    "# The saline groups\n",
    "saline_slices = {}\n",
    "for session in p_saline_data:\n",
    "    c_session = p_saline_data[session]\n",
    "    c_injection = saline_injectiontimes[session]\n",
    "    s_session = {mouse: c_session[mouse][np.logical_and(c_session[mouse].iloc[:,0] < c_injection + datetime.timedelta(hours=post_hours),\n",
    "                                                        c_session[mouse].iloc[:,0] > c_injection)] for mouse in c_session}\n",
    "    saline_slices[session] = s_session\n",
    "       \n",
    "# The MK801 groups                               \n",
    "mk801_slices = {}\n",
    "for session in p_mk801_data:\n",
    "    c_session = p_mk801_data[session]\n",
    "    c_injection = mk801_injectiontimes[session]\n",
    "    s_session = {mouse: c_session[mouse][np.logical_and(c_session[mouse].iloc[:,0] < c_injection + datetime.timedelta(hours=post_hours),\n",
    "                                                        c_session[mouse].iloc[:,0] > c_injection)] for mouse in c_session}\n",
    "    mk801_slices[session] = s_session\n"
   ]
  },
  {
   "cell_type": "markdown",
   "id": "02e69de6",
   "metadata": {},
   "source": [
    "### Data Analysis and Figures"
   ]
  },
  {
   "cell_type": "markdown",
   "id": "7386027d",
   "metadata": {},
   "source": [
    "Sample behavior after saline or MK801 infucsion. Panel 4B"
   ]
  },
  {
   "cell_type": "code",
   "execution_count": null,
   "id": "1553a831",
   "metadata": {},
   "outputs": [],
   "source": [
    "#Sample saline MK801\n",
    "sample_saline = saline_slices[\"saline_3\"][\"C50F5\"]\n",
    "sample_mk801 = mk801_slices[\"mk801_1\"][\"C50F5\"]\n",
    "\n",
    "fig, ax = plt.subplots(figsize=(6,3))\n",
    "c_trueleft = f3b.true_probs(sample_saline)[0].to_list()\n",
    "c_bactions = f3b.binned_paction(sample_saline)\n",
    "print(len(c_trueleft), len(c_bactions))\n",
    "ax.plot(c_trueleft, c=\"red\", linewidth=3)\n",
    "ax.plot(c_bactions, c=\"darkcyan\", linewidth=3)\n",
    "plt.axis(\"off\")\n",
    "\n",
    "\n",
    "fig, ax = plt.subplots(figsize=(6,3))\n",
    "c_trueleft = f3b.true_probs(sample_mk801)[0].to_list()\n",
    "c_bactions = f3b.binned_paction(sample_mk801)\n",
    "print(len(c_trueleft), len(c_bactions))\n",
    "ax.plot(c_trueleft, c=\"red\", linewidth=3)\n",
    "ax.plot(c_bactions, c=\"olive\", linewidth=3)\n",
    "plt.axis(\"off\")"
   ]
  },
  {
   "cell_type": "markdown",
   "id": "c0895a08",
   "metadata": {},
   "source": [
    "Calculation of pokes, pellets, pokes per pellet, win-stay, and lose-shift metrics.\n",
    "For documentation and source code of FED3Bandit package, which is used to calculate metrics, please see:\n",
    "\n",
    "FED3Bandit package documentation: https://fed3bandit.readthedocs.io/en/latest/analysis/fed3live_api.html\n",
    "\n",
    "FED3Bandit package source code:  https://github.com/AlexLM96/fed3bandit/blob/main/fed3bandit/fed3bandit/fed3bandit.py\n",
    "\n"
   ]
  },
  {
   "cell_type": "code",
   "execution_count": null,
   "id": "2b199b62",
   "metadata": {},
   "outputs": [],
   "source": [
    "# Metrics of the saline group\n",
    "saline_pellets = {}\n",
    "saline_pokes = {}\n",
    "saline_ws = {}\n",
    "saline_ls = {}\n",
    "for session in saline_slices:\n",
    "    #Load data\n",
    "    c_session = saline_slices[session]\n",
    "    \n",
    "    #Calculate metrics\n",
    "    c_session_pellets = {mouse: [f3b.count_pellets(c_session[mouse])] for mouse in c_session}\n",
    "    c_session_pokes = {mouse: [f3b.count_pokes(c_session[mouse])] for mouse in c_session}\n",
    "    c_session_ws = {mouse: [f3b.win_stay(c_session[mouse])] for mouse in c_session}\n",
    "    c_session_ls = {mouse: [f3b.lose_shift(c_session[mouse])] for mouse in c_session}\n",
    "\n",
    "    saline_pellets = saline_pellets | c_session_pellets\n",
    "    saline_pokes = saline_pokes | c_session_pokes\n",
    "    saline_ws = saline_ws | c_session_ws\n",
    "    saline_ls = saline_ls | c_session_ls\n",
    "    \n",
    "saline_pellets = pd.DataFrame(saline_pellets).T\n",
    "saline_pokes = pd.DataFrame(saline_pokes).T\n",
    "saline_ws = pd.DataFrame(saline_ws).T\n",
    "saline_ls = pd.DataFrame(saline_ls).T\n",
    "    \n",
    "# Metrics of the MK801 group\n",
    "mk801_pellets = {}\n",
    "mk801_pokes = {}\n",
    "mk801_ws = {}\n",
    "mk801_ls = {}\n",
    "for session in mk801_slices:\n",
    "    #Load data\n",
    "    c_session = mk801_slices[session]\n",
    "    \n",
    "    #Calculate metrics\n",
    "    c_session_pellets = {mouse: [f3b.count_pellets(c_session[mouse])] for mouse in c_session}\n",
    "    c_session_pokes = {mouse: [f3b.count_pokes(c_session[mouse])] for mouse in c_session}\n",
    "    c_session_ws = {mouse: [f3b.win_stay(c_session[mouse])] for mouse in c_session}\n",
    "    c_session_ls = {mouse: [f3b.lose_shift(c_session[mouse])] for mouse in c_session}\n",
    "\n",
    "    mk801_pellets = mk801_pellets | c_session_pellets\n",
    "    mk801_pokes = mk801_pokes | c_session_pokes\n",
    "    mk801_ws = mk801_ws | c_session_ws\n",
    "    mk801_ls = mk801_ls | c_session_ls\n",
    "    \n",
    "mk801_pellets = pd.DataFrame(mk801_pellets).T\n",
    "mk801_pokes = pd.DataFrame(mk801_pokes).T\n",
    "mk801_ws = pd.DataFrame(mk801_ws).T\n",
    "mk801_ls = pd.DataFrame(mk801_ls).T"
   ]
  },
  {
   "cell_type": "markdown",
   "id": "806bfc9d",
   "metadata": {},
   "source": [
    "Concatenating saline and mk801 groups and preparing for plotting."
   ]
  },
  {
   "cell_type": "code",
   "execution_count": null,
   "id": "3ca2d31d",
   "metadata": {},
   "outputs": [],
   "source": [
    "# Pellets\n",
    "all_pellets = pd.concat([saline_pellets, mk801_pellets], axis=1).reset_index()\n",
    "all_pellets.columns = [\"Mouse\", \"Sal\", \"MK801\"]\n",
    "m_all_pellets = pd.melt(all_pellets, id_vars=\"Mouse\")\n",
    "m_all_pellets[\"variable\"] = m_all_pellets[\"variable\"].astype(cat_size_order)\n",
    "m_all_pellets = m_all_pellets.sort_values(by=\"variable\")\n",
    "\n",
    "# Pokes\n",
    "all_pokes = pd.concat([saline_pokes, mk801_pokes], axis=1).reset_index()\n",
    "all_pokes.columns = [\"Mouse\", \"Sal\", \"MK801\"]\n",
    "m_all_pokes = pd.melt(all_pokes, id_vars=\"Mouse\")\n",
    "m_all_pokes[\"variable\"] = m_all_pokes[\"variable\"].astype(cat_size_order)\n",
    "m_all_pokes = m_all_pokes.sort_values(by=\"variable\")\n",
    "\n",
    "#Win-stay\n",
    "all_ws = pd.concat([saline_ws, mk801_ws], axis=1).reset_index()\n",
    "all_ws.columns = [\"Mouse\", \"Sal\", \"MK801\"]\n",
    "m_all_ws = pd.melt(all_ws, id_vars=\"Mouse\")\n",
    "m_all_ws[\"variable\"] = m_all_ws[\"variable\"].astype(cat_size_order)\n",
    "m_all_ws = m_all_ws.sort_values(by=\"variable\")\n",
    "\n",
    "#Lose-shift\n",
    "all_ls = pd.concat([saline_ls, mk801_ls], axis=1).reset_index()\n",
    "all_ls.columns = [\"Mouse\", \"Sal\", \"MK801\"]\n",
    "m_all_ls = pd.melt(all_ls, id_vars=\"Mouse\")\n",
    "m_all_ls[\"variable\"] = m_all_ls[\"variable\"].astype(cat_size_order)\n",
    "m_all_ls = m_all_ls.sort_values(by=\"variable\")"
   ]
  },
  {
   "cell_type": "markdown",
   "id": "ee50a920",
   "metadata": {},
   "source": [
    "Pellets plot and statistics (Panel 4C)"
   ]
  },
  {
   "cell_type": "code",
   "execution_count": null,
   "id": "08042040",
   "metadata": {},
   "outputs": [],
   "source": [
    "fig, ax = plt.subplots(figsize=(5, 8))\n",
    "sns.boxplot(x=\"variable\", y=\"value\", data=m_all_pellets, palette=[\n",
    "            \"darkcyan\", \"olive\", \"salmon\"], boxprops={\"linewidth\": 2.5}, whiskerprops={\"linewidth\": 2.5})\n",
    "sns.swarmplot(x=\"variable\", y=\"value\", data=m_all_pellets, palette=[\"silver\", \"silver\", \"silver\"], s=10)\n",
    "ax.set_ylabel(\"Pellets\")\n",
    "ax.set_xlabel(\"\")\n",
    "sns.despine()\n",
    "ax.spines[\"bottom\"].set_linewidth(2)\n",
    "ax.spines[\"left\"].set_linewidth(2)\n",
    "ax.set_ylim(0,200)\n",
    "ax.set_yticks(np.arange(0,180,40))\n",
    "\n",
    "# Run independent ttest\n",
    "mk801_pellets_ttest = ttest_ind(m_all_pellets[\"value\"][m_all_pellets[\"variable\"]== \"Sal\"], \n",
    "                                m_all_pellets[\"value\"][m_all_pellets[\"variable\"] == \"MK801\"], nan_policy=\"omit\")\n",
    "\n",
    "print(mk801_pellets_ttest)"
   ]
  },
  {
   "cell_type": "markdown",
   "id": "3d0b04a2",
   "metadata": {},
   "source": [
    "Pokes plot and statistics (Panel 4D)"
   ]
  },
  {
   "cell_type": "code",
   "execution_count": null,
   "id": "c8d30d5c",
   "metadata": {},
   "outputs": [],
   "source": [
    "fig, ax = plt.subplots(figsize=(5, 8))\n",
    "sns.boxplot(x=\"variable\", y=\"value\", data=m_all_pokes, palette=[\n",
    "            \"darkcyan\", \"olive\"], boxprops={\"linewidth\": 2.5}, whiskerprops={\"linewidth\": 2.5})\n",
    "sns.swarmplot(x=\"variable\", y=\"value\", data=m_all_pokes,\n",
    "              palette=[\"silver\", \"silver\"], s=10)\n",
    "ax.set_ylabel(\"Pokes\")\n",
    "ax.set_xlabel(\"\")\n",
    "ax.spines[\"bottom\"].set_linewidth(2)\n",
    "ax.spines[\"left\"].set_linewidth(2)\n",
    "ax.set_ylim(0,340)\n",
    "ax.set_yticks(np.arange(0,340,80))\n",
    "sns.despine()\n",
    "\n",
    "# Run independent ttest\n",
    "mk801_pokes_ttest = ttest_ind(m_all_pokes[\"value\"][m_all_pokes[\"variable\"]== \"Sal\"], \n",
    "                                m_all_pokes[\"value\"][m_all_pokes[\"variable\"] == \"MK801\"], nan_policy=\"omit\")\n",
    "\n",
    "print(mk801_pokes_ttest)\n"
   ]
  },
  {
   "cell_type": "markdown",
   "id": "4cb875e9",
   "metadata": {},
   "source": [
    "Pokes per pellet calculation, plot and statistics (Panel 4E)"
   ]
  },
  {
   "cell_type": "code",
   "execution_count": null,
   "id": "236155a5",
   "metadata": {},
   "outputs": [],
   "source": [
    "#First we create a copy of the poke dataframe\n",
    "m_all_ppp = m_all_pokes.copy(deep=True)\n",
    "\n",
    "#We divide the pokes by the number of pellets\n",
    "m_all_ppp[\"Pokes\"] /= m_all_pellets[\"Pellets\"]\n",
    "m_all_ppp = m_all_ppp.rename(columns={\"Pokes\": \"PPP\"})\n",
    "\n",
    "fig, ax = plt.subplots(figsize=(5, 8))\n",
    "sns.boxplot(x=\"variable\", y=\"value\", data=m_all_ppp, palette=[\n",
    "            \"darkcyan\", \"olive\"], boxprops={\"linewidth\": 2.5}, whiskerprops={\"linewidth\": 2.5})\n",
    "sns.swarmplot(x=\"variable\", y=\"value\", data=m_all_pokes, palette=[\"silver\", \"silver\"], s=10)\n",
    "ax.set_ylabel(\"Pokes/Pellet\")\n",
    "ax.set_xlabel(\"\")\n",
    "ax.spines[\"bottom\"].set_linewidth(2)\n",
    "ax.spines[\"left\"].set_linewidth(2)\n",
    "#ax.set_ylim(0,340)\n",
    "#ax.set_yticks(np.arange(0,340,80))\n",
    "sns.despine()\n",
    "\n",
    "# Run independent ttest\n",
    "mk801_pokes_ttest = ttest_ind(m_all_ppp[\"value\"][m_all_ppp[\"variable\"]== \"Sal\"], \n",
    "                                m_all_ppp[\"value\"][m_all_ppp[\"variable\"] == \"MK801\"], nan_policy=\"omit\")"
   ]
  },
  {
   "cell_type": "markdown",
   "id": "4db1408a",
   "metadata": {},
   "source": [
    "Calculation of Block change peri-event histogram"
   ]
  },
  {
   "cell_type": "code",
   "execution_count": null,
   "id": "217990d1",
   "metadata": {},
   "outputs": [],
   "source": [
    "#Block change peri-event histogram for MK801 group\n",
    "m_sal_pehs = {}\n",
    "for session in saline_slices:\n",
    "    print(session)\n",
    "    c_session = saline_slices[session]\n",
    "    c_pehs = {mouse: f3b.reversal_peh(c_session[mouse], (-10,11)).mean(axis=0) for mouse in c_session}\n",
    "    c_pehs_df = pd.DataFrame(c_pehs)\n",
    "    c_pehs_df = c_pehs_df.assign(Trial=np.arange(-10,11), Treatment=\"Sal\")\n",
    "    m_c_pehs = pd.melt(c_pehs_df, id_vars=[\"Trial\", \"Treatment\"])\n",
    "    m_sal_pehs[session] = m_c_pehs\n",
    "\n",
    "m_sal_pehs = pd.concat(m_sal_pehs.values())\n",
    "\n",
    "#Block change peri-event histogram for MK801 group\n",
    "m_mk801_pehs = {}\n",
    "for session in mk801_slices:\n",
    "    print(session)\n",
    "    c_session = mk801_slices[session]\n",
    "    c_pehs = {mouse: f3b.reversal_peh(c_session[mouse], (-10,11)).mean(axis=0) for mouse in c_session}\n",
    "    c_pehs_df = pd.DataFrame(c_pehs)\n",
    "    c_pehs_df = c_pehs_df.assign(Trial=np.arange(-10,11), Treatment=\"MK801\")\n",
    "    m_c_pehs = pd.melt(c_pehs_df, id_vars=[\"Trial\", \"Treatment\"])\n",
    "    m_mk801_pehs[session] = m_c_pehs\n",
    "\n",
    "m_mk801_pehs = pd.concat(m_mk801_pehs.values())\n",
    "\n",
    "# Here we pool both groups\n",
    "m_all_pehs = pd.concat([m_sal_pehs, m_mk801_pehs])"
   ]
  },
  {
   "cell_type": "markdown",
   "id": "d4e15761",
   "metadata": {},
   "source": [
    "Plot of block change peri-event histogram. Panel 4F"
   ]
  },
  {
   "cell_type": "code",
   "execution_count": null,
   "id": "43a5c353",
   "metadata": {},
   "outputs": [],
   "source": [
    "#Panel 4F Left.\n",
    "fig, ax = plt.subplots(figsize=(8, 8))\n",
    "sns.lineplot(x=\"Trial\", y=\"value\", hue=\"Treatment\", data=m_all_pehs, linewidth=4, palette=[\"darkcyan\", \"olive\"], errorbar=\"se\", legend=False)\n",
    "ax.set_ylabel(\"P(high port)\")\n",
    "ax.set_xlabel(\"Trial from reversal\")\n",
    "ax.set_yticks(np.arange(0.3, 1, 0.2))\n",
    "sns.despine()\n",
    "ax.spines[\"left\"].set_linewidth(2)\n",
    "ax.spines[\"bottom\"].set_linewidth(2)"
   ]
  },
  {
   "cell_type": "code",
   "execution_count": null,
   "id": "08a5d3b1",
   "metadata": {},
   "outputs": [],
   "source": [
    "\"\"\"Finding the average accuracy prior to the block change.\"\"\"\n",
    "all_pre_pehs = m_all_pehs[m_all_pehs[\"Trial\"] < 0]\n",
    "mean_pre_pehs = all_pre_pehs.groupby([\"Treatment\", \"variable\"]).mean().reset_index()\n",
    "mean_pre_pehs[\"Treatment\"] = mean_pre_pehs[\"Treatment\"].astype(cat_size_order)\n",
    "mean_pre_pehs = mean_pre_pehs.sort_values(by=\"Treatment\")\n",
    "\n",
    "#Plot of the average accuracy. Panel 4F Right\n",
    "fig, ax = plt.subplots(figsize=(5, 8))\n",
    "sns.boxplot(x=\"Treatment\", y=\"value\", data=mean_pre_pehs, palette=[\n",
    "            \"darkcyan\", \"olive\"], boxprops={\"linewidth\": 2.5}, whiskerprops={\"linewidth\": 2.5})\n",
    "sns.swarmplot(x=\"Treatment\", y=\"value\", data=mean_pre_pehs, palette=[\"silver\", \"silver\"], s=10)\n",
    "ax.set_ylabel(\"Pre-reversal Accuracy\")\n",
    "ax.set_xlabel(\"\")\n",
    "ax.set_yticks(np.arange(0.4, 1.2, 0.2))\n",
    "ax.set_ylim(0.3,1.05)\n",
    "sns.despine()\n",
    "ax.spines[\"left\"].set_linewidth(2)\n",
    "ax.spines[\"bottom\"].set_linewidth(2)\n",
    "plt.savefig(figure_dir + \"\\\\pre_rev_peh_4ug_icv_mk801.eps\", bbox_inches=\"tight\")\n",
    "\n",
    "#Statistical test\n",
    "mk801_rev_ttest = ttest_ind(mean_pre_pehs[\"value\"][mean_pre_pehs[\"Treatment\"]== \"Sal\"], mean_pre_pehs[\"value\"][mean_pre_pehs[\"Treatment\"] == \"MK801\"])\n",
    "print(mk801_rev_ttest)"
   ]
  },
  {
   "cell_type": "markdown",
   "id": "62bb2012",
   "metadata": {},
   "source": [
    "Plot and statistics of win-stay behavior. Panel 4H"
   ]
  },
  {
   "cell_type": "code",
   "execution_count": null,
   "id": "55031603",
   "metadata": {},
   "outputs": [],
   "source": [
    "fig, ax = plt.subplots(figsize=(5, 8))\n",
    "sns.boxplot(x=\"variable\", y=\"value\", data=m_all_ws, palette=[\n",
    "            \"darkcyan\", \"olive\"], boxprops={\"linewidth\": 2.5}, whiskerprops={\"linewidth\": 2.5})\n",
    "sns.swarmplot(x=\"variable\", y=\"value\", data=m_all_ws, palette=[\"silver\", \"silver\"], s=10)\n",
    "ax.set_ylabel(\"Win-stay\")\n",
    "ax.set_xlabel(\"\")\n",
    "ax.set_ylim(0,1)\n",
    "ax.spines[\"bottom\"].set_linewidth(2)\n",
    "ax.spines[\"left\"].set_linewidth(2)\n",
    "sns.despine()\n",
    "plt.savefig(figure_dir + \"\\\\ws_4ug_icv_mk801.eps\", bbox_inches=\"tight\")\n",
    "\n",
    "#Statistical test\n",
    "mk801_ws_ttest = ttest_ind(m_all_ws[\"value\"][m_all_ws[\"variable\"]== \"Sal\"], m_all_ws[\"value\"][m_all_ws[\"variable\"] == \"MK801\"], nan_policy=\"omit\")\n",
    "print(mk801_ws_ttest)"
   ]
  },
  {
   "cell_type": "markdown",
   "id": "fc023ac6",
   "metadata": {},
   "source": [
    "Fitting the logistic regression to test influence of past rewarded trials on behavior."
   ]
  },
  {
   "cell_type": "code",
   "execution_count": null,
   "id": "df0da2ab",
   "metadata": {},
   "outputs": [],
   "source": [
    "saline_pcoeffs = {}\n",
    "for session in saline_slices:\n",
    "    c_session = saline_slices[session]\n",
    "    c_session_sidep = {mouse: f3b.side_prewards(c_session[mouse]) for mouse in c_session}\n",
    "    c_session_preX = {mouse: f3b.create_X(c_session[mouse], c_session_sidep[mouse], 5)\n",
    "                      for mouse in c_session_sidep}\n",
    "    c_session_pcoeffs = {mouse: f3b.logit_regr(c_session_preX[mouse]).params for mouse in c_session_preX}\n",
    "    saline_pcoeffs = saline_pcoeffs | c_session_pcoeffs\n",
    "    \n",
    "saline_pcoeffs = pd.DataFrame(saline_pcoeffs)\n",
    "saline_pcoeffs = saline_pcoeffs.assign(Treatment=\"Sal\", Trial=np.flip(np.arange(-5, 0, 1)))\n",
    "m_saline_pcoeffs = pd.melt(saline_pcoeffs, id_vars=[\"Treatment\", \"Trial\"])\n",
    "\n",
    "# Count of ws after mk801 injections\n",
    "mk801_pcoeffs = {}\n",
    "for session in mk801_slices:\n",
    "    print(session)\n",
    "    c_session = mk801_slices[session]\n",
    "    c_session_sidep = {mouse: f3b.side_prewards(c_session[mouse]) for mouse in c_session}\n",
    "    c_session_preX = {mouse: f3b.create_X(c_session[mouse], c_session_sidep[mouse], 5)\n",
    "                      for mouse in c_session_sidep}\n",
    "    c_session_pcoeffs = {mouse: f3b.logit_regr(c_session_preX[mouse]).params for mouse in c_session_preX}\n",
    "    mk801_pcoeffs = mk801_pcoeffs | c_session_pcoeffs\n",
    "    \n",
    "mk801_pcoeffs = pd.DataFrame(mk801_pcoeffs)\n",
    "mk801_pcoeffs = mk801_pcoeffs.assign(Treatment=\"MK801\", Trial=np.flip(np.arange(-5, 0, 1)))\n",
    "m_mk801_pcoeffs = pd.melt(mk801_pcoeffs, id_vars=[\"Treatment\", \"Trial\"])\n",
    "\n",
    "m_all_pcoeffs = pd.concat([m_saline_pcoeffs, m_mk801_pcoeffs])"
   ]
  },
  {
   "cell_type": "markdown",
   "id": "431ea0f6",
   "metadata": {},
   "source": [
    "Plot and statistics of regression coefficients. Panel 4I"
   ]
  },
  {
   "cell_type": "code",
   "execution_count": null,
   "id": "e202a811",
   "metadata": {},
   "outputs": [],
   "source": [
    "#Panel 4I Left. Plot of regressor coefficients\n",
    "fig, ax = plt.subplots(figsize=(8, 8))\n",
    "sns.pointplot(x=\"Trial\", y=\"value\", hue=\"Treatment\", data=m_all_pcoeffs,\n",
    "              palette=[\"darkcyan\", \"olive\"], errwidth=3, errorbar=\"se\", markersize=10)\n",
    "for line in ax.lines:\n",
    "    line.set_linewidth(6)\n",
    "ax.set_xlabel(\"Trial in past\")\n",
    "ax.set_ylabel(\"Regr. Coefficient\")\n",
    "ax.set_yticks(np.arange(0,2.01,0.5))\n",
    "ax.spines[\"left\"].set_linewidth(3)\n",
    "ax.spines[\"bottom\"].set_linewidth(3)\n",
    "sns.despine()\n",
    "plt.savefig(figure_dir + \"\\\\plogreg_4ug_icv_mk801.eps\", bbox_inches=\"tight\")\n"
   ]
  },
  {
   "cell_type": "code",
   "execution_count": null,
   "id": "35df67b9",
   "metadata": {},
   "outputs": [],
   "source": [
    "#Plotting of sum of regressor coefficients in both groups\n",
    "all_paucs = m_all_pcoeffs.groupby(by=[\"Treatment\", \"variable\"]).sum().reset_index()\n",
    "all_paucs[\"Treatment\"] = all_paucs[\"Treatment\"].astype(cat_size_order)\n",
    "all_paucs = all_paucs.sort_values(by=\"Treatment\")\n",
    "\n",
    "fig, ax = plt.subplots(figsize=(5, 8))\n",
    "sns.boxplot(x=\"Treatment\", y=\"value\", data=all_paucs, palette=[\n",
    "            \"darkcyan\", \"olive\"], boxprops={\"linewidth\": 2.5}, whiskerprops={\"linewidth\": 2.5})\n",
    "sns.swarmplot(x=\"Treatment\", y=\"value\", data=all_paucs,\n",
    "              palette=[\"silver\", \"silver\"], s=10)\n",
    "ax.set_ylabel(\"Regr. Coeff. AUC\")\n",
    "ax.set_xlabel(\"\")\n",
    "ax.set_yticks(np.arange(-1,4,1))\n",
    "ax.set_ylim(-1,3.5)\n",
    "ax.spines[\"bottom\"].set_linewidth(2)\n",
    "ax.spines[\"left\"].set_linewidth(2)\n",
    "sns.despine()\n",
    "\n",
    "#Statistical test\n",
    "mk801_pauc_ttest = ttest_ind(all_paucs[\"value\"][all_paucs[\"Treatment\"]== \"Sal\"], all_paucs[\"value\"][all_paucs[\"Treatment\"] == \"MK801\"])\n",
    "print(mk801_pauc_ttest)"
   ]
  }
 ],
 "metadata": {
  "kernelspec": {
   "display_name": "influxdb",
   "language": "python",
   "name": "python3"
  },
  "language_info": {
   "codemirror_mode": {
    "name": "ipython",
    "version": 3
   },
   "file_extension": ".py",
   "mimetype": "text/x-python",
   "name": "python",
   "nbconvert_exporter": "python",
   "pygments_lexer": "ipython3",
   "version": "3.10.14"
  }
 },
 "nbformat": 4,
 "nbformat_minor": 5
}
